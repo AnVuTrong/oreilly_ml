{
 "cells": [
  {
   "cell_type": "code",
   "execution_count": 67,
   "id": "initial_id",
   "metadata": {
    "ExecuteTime": {
     "end_time": "2024-10-13T09:45:23.055296Z",
     "start_time": "2024-10-13T09:45:14.788883Z"
    },
    "collapsed": true
   },
   "outputs": [],
   "source": [
    "import pandas as pd\n",
    "import numpy as np\n",
    "import matplotlib.pyplot as plt\n",
    "from sklearn.preprocessing import MinMaxScaler\n",
    "from sklearn.model_selection import train_test_split\n",
    "\n",
    "import torch\n",
    "import torch.nn as nn\n",
    "import pytorch_lightning as pl\n",
    "from pytorch_lightning.callbacks import EarlyStopping\n",
    "from torch.utils.data import DataLoader, TensorDataset"
   ]
  },
  {
   "cell_type": "code",
   "execution_count": 68,
   "id": "53b577a8",
   "metadata": {},
   "outputs": [
    {
     "name": "stdout",
     "output_type": "stream",
     "text": [
      "Using device: cpu\n"
     ]
    }
   ],
   "source": [
    "# Check if GPU is available\n",
    "device = torch.device(\"cuda\" if torch.cuda.is_available() else \"cpu\")\n",
    "print(f\"Using device: {device}\")"
   ]
  },
  {
   "cell_type": "code",
   "execution_count": 69,
   "id": "b9e0efad",
   "metadata": {},
   "outputs": [],
   "source": [
    "# Define the data splits\n",
    "train_end = '2018-12-31'\n",
    "val_end = '2021-12-31'\n",
    "# Everything after val_end will be used for backtesting"
   ]
  },
  {
   "cell_type": "code",
   "execution_count": 70,
   "id": "3b42d27d",
   "metadata": {
    "ExecuteTime": {
     "end_time": "2024-10-13T09:45:24.276411Z",
     "start_time": "2024-10-13T09:45:23.068254Z"
    }
   },
   "outputs": [
    {
     "data": {
      "text/html": [
       "<div>\n",
       "<style scoped>\n",
       "    .dataframe tbody tr th:only-of-type {\n",
       "        vertical-align: middle;\n",
       "    }\n",
       "\n",
       "    .dataframe tbody tr th {\n",
       "        vertical-align: top;\n",
       "    }\n",
       "\n",
       "    .dataframe thead th {\n",
       "        text-align: right;\n",
       "    }\n",
       "</style>\n",
       "<table border=\"1\" class=\"dataframe\">\n",
       "  <thead>\n",
       "    <tr style=\"text-align: right;\">\n",
       "      <th></th>\n",
       "      <th>mack</th>\n",
       "      <th>ngay</th>\n",
       "      <th>open_root</th>\n",
       "      <th>high_root</th>\n",
       "      <th>low_root</th>\n",
       "      <th>close_root</th>\n",
       "      <th>volume_root</th>\n",
       "      <th>open_adjust</th>\n",
       "      <th>high_adjust</th>\n",
       "      <th>low_adjust</th>\n",
       "      <th>...</th>\n",
       "      <th>giatri_giaodich</th>\n",
       "      <th>ceilingprice</th>\n",
       "      <th>floorprice</th>\n",
       "      <th>changed</th>\n",
       "      <th>changedratio</th>\n",
       "      <th>kl_nn_ban</th>\n",
       "      <th>kl_nn_mua</th>\n",
       "      <th>gt_nn_ban</th>\n",
       "      <th>gt_nn_mua</th>\n",
       "      <th>lastupdate</th>\n",
       "    </tr>\n",
       "  </thead>\n",
       "  <tbody>\n",
       "    <tr>\n",
       "      <th>5666</th>\n",
       "      <td>REE</td>\n",
       "      <td>2000-07-28 00:00:00+00:00</td>\n",
       "      <td>16000.0</td>\n",
       "      <td>16000.0</td>\n",
       "      <td>16000.0</td>\n",
       "      <td>16000.0</td>\n",
       "      <td>1000</td>\n",
       "      <td>1040.0</td>\n",
       "      <td>1040.0</td>\n",
       "      <td>1040.0</td>\n",
       "      <td>...</td>\n",
       "      <td>NaN</td>\n",
       "      <td>NaN</td>\n",
       "      <td>NaN</td>\n",
       "      <td>NaN</td>\n",
       "      <td>NaN</td>\n",
       "      <td>NaN</td>\n",
       "      <td>NaN</td>\n",
       "      <td>NaN</td>\n",
       "      <td>NaN</td>\n",
       "      <td>2024-01-03T14:22:25.598Z</td>\n",
       "    </tr>\n",
       "    <tr>\n",
       "      <th>5665</th>\n",
       "      <td>REE</td>\n",
       "      <td>2000-07-31 00:00:00+00:00</td>\n",
       "      <td>16300.0</td>\n",
       "      <td>16300.0</td>\n",
       "      <td>16300.0</td>\n",
       "      <td>16300.0</td>\n",
       "      <td>300</td>\n",
       "      <td>1060.0</td>\n",
       "      <td>1060.0</td>\n",
       "      <td>1060.0</td>\n",
       "      <td>...</td>\n",
       "      <td>NaN</td>\n",
       "      <td>NaN</td>\n",
       "      <td>NaN</td>\n",
       "      <td>20.0</td>\n",
       "      <td>1.92</td>\n",
       "      <td>NaN</td>\n",
       "      <td>NaN</td>\n",
       "      <td>NaN</td>\n",
       "      <td>NaN</td>\n",
       "      <td>2024-01-03T14:22:25.598Z</td>\n",
       "    </tr>\n",
       "    <tr>\n",
       "      <th>5664</th>\n",
       "      <td>REE</td>\n",
       "      <td>2000-08-02 00:00:00+00:00</td>\n",
       "      <td>16600.0</td>\n",
       "      <td>16600.0</td>\n",
       "      <td>16600.0</td>\n",
       "      <td>16600.0</td>\n",
       "      <td>100</td>\n",
       "      <td>1080.0</td>\n",
       "      <td>1080.0</td>\n",
       "      <td>1080.0</td>\n",
       "      <td>...</td>\n",
       "      <td>NaN</td>\n",
       "      <td>NaN</td>\n",
       "      <td>NaN</td>\n",
       "      <td>20.0</td>\n",
       "      <td>1.89</td>\n",
       "      <td>NaN</td>\n",
       "      <td>NaN</td>\n",
       "      <td>NaN</td>\n",
       "      <td>NaN</td>\n",
       "      <td>2024-01-03T14:22:25.598Z</td>\n",
       "    </tr>\n",
       "    <tr>\n",
       "      <th>5663</th>\n",
       "      <td>REE</td>\n",
       "      <td>2000-08-04 00:00:00+00:00</td>\n",
       "      <td>16900.0</td>\n",
       "      <td>16900.0</td>\n",
       "      <td>16900.0</td>\n",
       "      <td>16900.0</td>\n",
       "      <td>200</td>\n",
       "      <td>1100.0</td>\n",
       "      <td>1100.0</td>\n",
       "      <td>1100.0</td>\n",
       "      <td>...</td>\n",
       "      <td>NaN</td>\n",
       "      <td>NaN</td>\n",
       "      <td>NaN</td>\n",
       "      <td>20.0</td>\n",
       "      <td>1.85</td>\n",
       "      <td>NaN</td>\n",
       "      <td>NaN</td>\n",
       "      <td>NaN</td>\n",
       "      <td>NaN</td>\n",
       "      <td>2024-01-03T14:22:25.598Z</td>\n",
       "    </tr>\n",
       "    <tr>\n",
       "      <th>5662</th>\n",
       "      <td>REE</td>\n",
       "      <td>2000-08-07 00:00:00+00:00</td>\n",
       "      <td>17200.0</td>\n",
       "      <td>17200.0</td>\n",
       "      <td>17200.0</td>\n",
       "      <td>17200.0</td>\n",
       "      <td>2800</td>\n",
       "      <td>1120.0</td>\n",
       "      <td>1120.0</td>\n",
       "      <td>1120.0</td>\n",
       "      <td>...</td>\n",
       "      <td>NaN</td>\n",
       "      <td>NaN</td>\n",
       "      <td>NaN</td>\n",
       "      <td>20.0</td>\n",
       "      <td>1.82</td>\n",
       "      <td>NaN</td>\n",
       "      <td>NaN</td>\n",
       "      <td>NaN</td>\n",
       "      <td>NaN</td>\n",
       "      <td>2024-01-03T14:22:25.598Z</td>\n",
       "    </tr>\n",
       "    <tr>\n",
       "      <th>...</th>\n",
       "      <td>...</td>\n",
       "      <td>...</td>\n",
       "      <td>...</td>\n",
       "      <td>...</td>\n",
       "      <td>...</td>\n",
       "      <td>...</td>\n",
       "      <td>...</td>\n",
       "      <td>...</td>\n",
       "      <td>...</td>\n",
       "      <td>...</td>\n",
       "      <td>...</td>\n",
       "      <td>...</td>\n",
       "      <td>...</td>\n",
       "      <td>...</td>\n",
       "      <td>...</td>\n",
       "      <td>...</td>\n",
       "      <td>...</td>\n",
       "      <td>...</td>\n",
       "      <td>...</td>\n",
       "      <td>...</td>\n",
       "      <td>...</td>\n",
       "    </tr>\n",
       "    <tr>\n",
       "      <th>4</th>\n",
       "      <td>REE</td>\n",
       "      <td>2023-12-25 00:00:00+00:00</td>\n",
       "      <td>55800.0</td>\n",
       "      <td>56500.0</td>\n",
       "      <td>55700.0</td>\n",
       "      <td>56100.0</td>\n",
       "      <td>480200</td>\n",
       "      <td>47750.0</td>\n",
       "      <td>48350.0</td>\n",
       "      <td>47660.0</td>\n",
       "      <td>...</td>\n",
       "      <td>2.689120e+10</td>\n",
       "      <td>59700.0</td>\n",
       "      <td>51900.0</td>\n",
       "      <td>260.0</td>\n",
       "      <td>0.54</td>\n",
       "      <td>84700.0</td>\n",
       "      <td>43000.0</td>\n",
       "      <td>4.751670e+09</td>\n",
       "      <td>2.412300e+09</td>\n",
       "      <td>2024-05-26T21:36:37.868Z</td>\n",
       "    </tr>\n",
       "    <tr>\n",
       "      <th>3</th>\n",
       "      <td>REE</td>\n",
       "      <td>2023-12-26 00:00:00+00:00</td>\n",
       "      <td>56300.0</td>\n",
       "      <td>56400.0</td>\n",
       "      <td>55800.0</td>\n",
       "      <td>55800.0</td>\n",
       "      <td>622400</td>\n",
       "      <td>48170.0</td>\n",
       "      <td>48260.0</td>\n",
       "      <td>47750.0</td>\n",
       "      <td>...</td>\n",
       "      <td>3.487307e+10</td>\n",
       "      <td>60000.0</td>\n",
       "      <td>52200.0</td>\n",
       "      <td>-260.0</td>\n",
       "      <td>-0.54</td>\n",
       "      <td>139871.0</td>\n",
       "      <td>500.0</td>\n",
       "      <td>7.804802e+09</td>\n",
       "      <td>2.790000e+07</td>\n",
       "      <td>2024-05-26T21:36:37.868Z</td>\n",
       "    </tr>\n",
       "    <tr>\n",
       "      <th>2</th>\n",
       "      <td>REE</td>\n",
       "      <td>2023-12-27 00:00:00+00:00</td>\n",
       "      <td>55900.0</td>\n",
       "      <td>56500.0</td>\n",
       "      <td>55900.0</td>\n",
       "      <td>56400.0</td>\n",
       "      <td>527100</td>\n",
       "      <td>47830.0</td>\n",
       "      <td>48350.0</td>\n",
       "      <td>47830.0</td>\n",
       "      <td>...</td>\n",
       "      <td>2.966519e+10</td>\n",
       "      <td>59700.0</td>\n",
       "      <td>51900.0</td>\n",
       "      <td>510.0</td>\n",
       "      <td>1.07</td>\n",
       "      <td>50084.0</td>\n",
       "      <td>0.0</td>\n",
       "      <td>2.824738e+09</td>\n",
       "      <td>0.000000e+00</td>\n",
       "      <td>2024-05-26T21:36:37.868Z</td>\n",
       "    </tr>\n",
       "    <tr>\n",
       "      <th>1</th>\n",
       "      <td>REE</td>\n",
       "      <td>2023-12-28 00:00:00+00:00</td>\n",
       "      <td>56700.0</td>\n",
       "      <td>56800.0</td>\n",
       "      <td>56300.0</td>\n",
       "      <td>56400.0</td>\n",
       "      <td>346800</td>\n",
       "      <td>48520.0</td>\n",
       "      <td>48610.0</td>\n",
       "      <td>48170.0</td>\n",
       "      <td>...</td>\n",
       "      <td>1.958033e+10</td>\n",
       "      <td>60300.0</td>\n",
       "      <td>52500.0</td>\n",
       "      <td>0.0</td>\n",
       "      <td>0.00</td>\n",
       "      <td>0.0</td>\n",
       "      <td>18700.0</td>\n",
       "      <td>0.000000e+00</td>\n",
       "      <td>1.054680e+09</td>\n",
       "      <td>2024-05-26T21:36:37.868Z</td>\n",
       "    </tr>\n",
       "    <tr>\n",
       "      <th>0</th>\n",
       "      <td>REE</td>\n",
       "      <td>2023-12-29 00:00:00+00:00</td>\n",
       "      <td>57000.0</td>\n",
       "      <td>57500.0</td>\n",
       "      <td>56400.0</td>\n",
       "      <td>56800.0</td>\n",
       "      <td>712200</td>\n",
       "      <td>48770.0</td>\n",
       "      <td>49210.0</td>\n",
       "      <td>48260.0</td>\n",
       "      <td>...</td>\n",
       "      <td>4.068799e+10</td>\n",
       "      <td>60300.0</td>\n",
       "      <td>52500.0</td>\n",
       "      <td>350.0</td>\n",
       "      <td>0.73</td>\n",
       "      <td>0.0</td>\n",
       "      <td>116871.0</td>\n",
       "      <td>0.000000e+00</td>\n",
       "      <td>6.638273e+09</td>\n",
       "      <td>2024-05-26T21:36:37.868Z</td>\n",
       "    </tr>\n",
       "  </tbody>\n",
       "</table>\n",
       "<p>5667 rows × 23 columns</p>\n",
       "</div>"
      ],
      "text/plain": [
       "     mack                      ngay  open_root  high_root  low_root  \\\n",
       "5666  REE 2000-07-28 00:00:00+00:00    16000.0    16000.0   16000.0   \n",
       "5665  REE 2000-07-31 00:00:00+00:00    16300.0    16300.0   16300.0   \n",
       "5664  REE 2000-08-02 00:00:00+00:00    16600.0    16600.0   16600.0   \n",
       "5663  REE 2000-08-04 00:00:00+00:00    16900.0    16900.0   16900.0   \n",
       "5662  REE 2000-08-07 00:00:00+00:00    17200.0    17200.0   17200.0   \n",
       "...   ...                       ...        ...        ...       ...   \n",
       "4     REE 2023-12-25 00:00:00+00:00    55800.0    56500.0   55700.0   \n",
       "3     REE 2023-12-26 00:00:00+00:00    56300.0    56400.0   55800.0   \n",
       "2     REE 2023-12-27 00:00:00+00:00    55900.0    56500.0   55900.0   \n",
       "1     REE 2023-12-28 00:00:00+00:00    56700.0    56800.0   56300.0   \n",
       "0     REE 2023-12-29 00:00:00+00:00    57000.0    57500.0   56400.0   \n",
       "\n",
       "      close_root  volume_root  open_adjust  high_adjust  low_adjust  ...  \\\n",
       "5666     16000.0         1000       1040.0       1040.0      1040.0  ...   \n",
       "5665     16300.0          300       1060.0       1060.0      1060.0  ...   \n",
       "5664     16600.0          100       1080.0       1080.0      1080.0  ...   \n",
       "5663     16900.0          200       1100.0       1100.0      1100.0  ...   \n",
       "5662     17200.0         2800       1120.0       1120.0      1120.0  ...   \n",
       "...          ...          ...          ...          ...         ...  ...   \n",
       "4        56100.0       480200      47750.0      48350.0     47660.0  ...   \n",
       "3        55800.0       622400      48170.0      48260.0     47750.0  ...   \n",
       "2        56400.0       527100      47830.0      48350.0     47830.0  ...   \n",
       "1        56400.0       346800      48520.0      48610.0     48170.0  ...   \n",
       "0        56800.0       712200      48770.0      49210.0     48260.0  ...   \n",
       "\n",
       "      giatri_giaodich  ceilingprice  floorprice  changed  changedratio  \\\n",
       "5666              NaN           NaN         NaN      NaN           NaN   \n",
       "5665              NaN           NaN         NaN     20.0          1.92   \n",
       "5664              NaN           NaN         NaN     20.0          1.89   \n",
       "5663              NaN           NaN         NaN     20.0          1.85   \n",
       "5662              NaN           NaN         NaN     20.0          1.82   \n",
       "...               ...           ...         ...      ...           ...   \n",
       "4        2.689120e+10       59700.0     51900.0    260.0          0.54   \n",
       "3        3.487307e+10       60000.0     52200.0   -260.0         -0.54   \n",
       "2        2.966519e+10       59700.0     51900.0    510.0          1.07   \n",
       "1        1.958033e+10       60300.0     52500.0      0.0          0.00   \n",
       "0        4.068799e+10       60300.0     52500.0    350.0          0.73   \n",
       "\n",
       "      kl_nn_ban  kl_nn_mua     gt_nn_ban     gt_nn_mua  \\\n",
       "5666        NaN        NaN           NaN           NaN   \n",
       "5665        NaN        NaN           NaN           NaN   \n",
       "5664        NaN        NaN           NaN           NaN   \n",
       "5663        NaN        NaN           NaN           NaN   \n",
       "5662        NaN        NaN           NaN           NaN   \n",
       "...         ...        ...           ...           ...   \n",
       "4       84700.0    43000.0  4.751670e+09  2.412300e+09   \n",
       "3      139871.0      500.0  7.804802e+09  2.790000e+07   \n",
       "2       50084.0        0.0  2.824738e+09  0.000000e+00   \n",
       "1           0.0    18700.0  0.000000e+00  1.054680e+09   \n",
       "0           0.0   116871.0  0.000000e+00  6.638273e+09   \n",
       "\n",
       "                    lastupdate  \n",
       "5666  2024-01-03T14:22:25.598Z  \n",
       "5665  2024-01-03T14:22:25.598Z  \n",
       "5664  2024-01-03T14:22:25.598Z  \n",
       "5663  2024-01-03T14:22:25.598Z  \n",
       "5662  2024-01-03T14:22:25.598Z  \n",
       "...                        ...  \n",
       "4     2024-05-26T21:36:37.868Z  \n",
       "3     2024-05-26T21:36:37.868Z  \n",
       "2     2024-05-26T21:36:37.868Z  \n",
       "1     2024-05-26T21:36:37.868Z  \n",
       "0     2024-05-26T21:36:37.868Z  \n",
       "\n",
       "[5667 rows x 23 columns]"
      ]
     },
     "execution_count": 70,
     "metadata": {},
     "output_type": "execute_result"
    }
   ],
   "source": [
    "# Load and preprocess the data\n",
    "df = pd.read_csv('data/REE.csv')\n",
    "df['ngay'] = pd.to_datetime(df['ngay'])\n",
    "df = df.sort_values('ngay')\n",
    "df"
   ]
  },
  {
   "cell_type": "code",
   "execution_count": 71,
   "id": "88af1ac9",
   "metadata": {},
   "outputs": [],
   "source": [
    "# Select features and target\n",
    "features = ['open_adjust', 'high_adjust', 'low_adjust', 'volume_adjust']\n",
    "target = 'close_adjust'"
   ]
  },
  {
   "cell_type": "code",
   "execution_count": 54,
   "id": "a1a435bc",
   "metadata": {},
   "outputs": [
    {
     "data": {
      "text/plain": [
       "array([[5.63961486e-03, 5.63961486e-03, 5.84545195e-03, 1.37869644e-04,\n",
       "        5.69760978e-03],\n",
       "       [5.91471802e-03, 5.91471802e-03, 6.13059595e-03, 3.29688280e-05,\n",
       "        5.97554197e-03],\n",
       "       [6.18982118e-03, 6.18982118e-03, 6.41573995e-03, 2.99716618e-06,\n",
       "        6.25347415e-03],\n",
       "       ...,\n",
       "       [6.49243466e-01, 6.56396149e-01, 6.72939835e-01, 7.89783260e-02,\n",
       "        6.61895497e-01],\n",
       "       [6.58734525e-01, 6.59972490e-01, 6.77787283e-01, 5.19588729e-02,\n",
       "        6.61895497e-01],\n",
       "       [6.62173315e-01, 6.68225585e-01, 6.79070431e-01, 1.06717099e-01,\n",
       "        6.66759311e-01]])"
      ]
     },
     "execution_count": 54,
     "metadata": {},
     "output_type": "execute_result"
    }
   ],
   "source": [
    "# Scale the features and target\n",
    "scaler = MinMaxScaler()\n",
    "scaled_data = scaler.fit_transform(df[features + [target]])\n",
    "scaled_data"
   ]
  },
  {
   "cell_type": "code",
   "execution_count": 55,
   "id": "05a8c8dc",
   "metadata": {},
   "outputs": [],
   "source": [
    "sequence_length = 10\n",
    "X, y = [], []\n",
    "\n",
    "for i in range(len(scaled_data) - sequence_length - 1):\n",
    "    X.append(scaled_data[i:i+sequence_length, :-1])\n",
    "    y.append(scaled_data[i+sequence_length, -1])\n",
    "\n",
    "X = np.array(X)\n",
    "y = np.array(y)\n",
    "\n"
   ]
  },
  {
   "cell_type": "code",
   "execution_count": 56,
   "id": "883f22de",
   "metadata": {},
   "outputs": [],
   "source": [
    " # Split the data into train and test sets based on time\n",
    "train_size = int(len(X) * 0.5)  # Use 80% of the data for training\n",
    "X_train, X_test = X[:train_size], X[train_size:]\n",
    "y_train, y_test = y[:train_size], y[train_size:]"
   ]
  },
  {
   "cell_type": "code",
   "execution_count": 57,
   "id": "a5bc9ec3",
   "metadata": {},
   "outputs": [],
   "source": [
    "# Convert to PyTorch tensors\n",
    "X_train = torch.FloatTensor(X_train)\n",
    "y_train = torch.FloatTensor(y_train)\n",
    "X_test = torch.FloatTensor(X_test)\n",
    "y_test = torch.FloatTensor(y_test)"
   ]
  },
  {
   "cell_type": "code",
   "execution_count": 58,
   "id": "943f95a2",
   "metadata": {},
   "outputs": [],
   "source": [
    "# Create DataLoaders\n",
    "train_dataset = TensorDataset(X_train, y_train)\n",
    "test_dataset = TensorDataset(X_test, y_test)\n",
    "train_loader = DataLoader(train_dataset, batch_size=32, shuffle=True)\n",
    "test_loader = DataLoader(test_dataset, batch_size=32, shuffle=False)\n"
   ]
  },
  {
   "cell_type": "code",
   "execution_count": 59,
   "id": "79019e09",
   "metadata": {},
   "outputs": [
    {
     "data": {
      "text/plain": [
       "<torch.utils.data.dataset.TensorDataset at 0x23e38edba10>"
      ]
     },
     "execution_count": 59,
     "metadata": {},
     "output_type": "execute_result"
    }
   ],
   "source": [
    "train_dataset"
   ]
  },
  {
   "cell_type": "code",
   "execution_count": 60,
   "id": "fce2201a",
   "metadata": {},
   "outputs": [],
   "source": [
    "# Define the LSTM model\n",
    "class StockPriceLSTM(pl.LightningModule):\n",
    "    def __init__(self, input_size, hidden_size, num_layers):\n",
    "        super().__init__()\n",
    "        self.lstm = nn.LSTM(input_size, hidden_size, num_layers, batch_first=True)\n",
    "        self.fc = nn.Linear(hidden_size, 1)\n",
    "        \n",
    "    def forward(self, x):\n",
    "        lstm_out, _ = self.lstm(x)\n",
    "        out = self.fc(lstm_out[:, -1, :])\n",
    "        return out.squeeze()\n",
    "    \n",
    "    def training_step(self, batch, batch_idx):\n",
    "        x, y = batch\n",
    "        y_hat = self(x)\n",
    "        loss = nn.MSELoss()(y_hat, y)\n",
    "        self.log('train_loss', loss)\n",
    "        return loss\n",
    "    \n",
    "    def validation_step(self, batch, batch_idx):\n",
    "        x, y = batch\n",
    "        y_hat = self(x)\n",
    "        loss = nn.MSELoss()(y_hat, y)\n",
    "        self.log('val_loss', loss)\n",
    "        \n",
    "    def configure_optimizers(self):\n",
    "        return torch.optim.Adam(self.parameters(), lr=0.001)\n"
   ]
  },
  {
   "cell_type": "code",
   "execution_count": 61,
   "id": "052246cc",
   "metadata": {},
   "outputs": [
    {
     "name": "stderr",
     "output_type": "stream",
     "text": [
      "GPU available: False, used: False\n",
      "TPU available: False, using: 0 TPU cores\n",
      "HPU available: False, using: 0 HPUs\n"
     ]
    }
   ],
   "source": [
    "# Initialize the model and trainer\n",
    "model = StockPriceLSTM(input_size=len(features), hidden_size=64, num_layers=2)\n",
    "early_stop_callback = EarlyStopping(monitor='val_loss', patience=5)\n",
    "trainer = pl.Trainer(max_epochs=100, callbacks=[early_stop_callback])\n"
   ]
  },
  {
   "cell_type": "code",
   "execution_count": 62,
   "id": "39ab73cb",
   "metadata": {},
   "outputs": [
    {
     "name": "stderr",
     "output_type": "stream",
     "text": [
      "\n",
      "  | Name | Type   | Params | Mode \n",
      "----------------------------------------\n",
      "0 | lstm | LSTM   | 51.2 K | train\n",
      "1 | fc   | Linear | 65     | train\n",
      "----------------------------------------\n",
      "51.3 K    Trainable params\n",
      "0         Non-trainable params\n",
      "51.3 K    Total params\n",
      "0.205     Total estimated model params size (MB)\n",
      "2         Modules in train mode\n",
      "0         Modules in eval mode\n"
     ]
    },
    {
     "name": "stdout",
     "output_type": "stream",
     "text": [
      "                                                                            "
     ]
    },
    {
     "name": "stderr",
     "output_type": "stream",
     "text": [
      "c:\\ProgramData\\miniconda3\\envs\\an-project\\Lib\\site-packages\\pytorch_lightning\\trainer\\connectors\\data_connector.py:424: The 'val_dataloader' does not have many workers which may be a bottleneck. Consider increasing the value of the `num_workers` argument` to `num_workers=19` in the `DataLoader` to improve performance.\n",
      "c:\\ProgramData\\miniconda3\\envs\\an-project\\Lib\\site-packages\\pytorch_lightning\\trainer\\connectors\\data_connector.py:424: The 'train_dataloader' does not have many workers which may be a bottleneck. Consider increasing the value of the `num_workers` argument` to `num_workers=19` in the `DataLoader` to improve performance.\n"
     ]
    },
    {
     "name": "stdout",
     "output_type": "stream",
     "text": [
      "Epoch 5: 100%|██████████| 89/89 [00:00<00:00, 104.45it/s, v_num=4]\n"
     ]
    }
   ],
   "source": [
    "# Train the model\n",
    "trainer.fit(model, train_loader, test_loader)\n"
   ]
  },
  {
   "cell_type": "code",
   "execution_count": 63,
   "id": "a349509c",
   "metadata": {},
   "outputs": [],
   "source": [
    "# Make predictions\n",
    "model.eval()\n",
    "with torch.no_grad():\n",
    "    predictions = model(X_test).numpy()\n"
   ]
  },
  {
   "cell_type": "code",
   "execution_count": 64,
   "id": "dd81f9d3",
   "metadata": {},
   "outputs": [],
   "source": [
    "# Inverse transform the predictions and actual values\n",
    "predictions = scaler.inverse_transform(np.column_stack((X_test[:, -1, :], predictions)))[:, -1]\n",
    "actual = scaler.inverse_transform(np.column_stack((X_test[:, -1, :], y_test.numpy().reshape(-1, 1))))[:, -1]\n"
   ]
  },
  {
   "cell_type": "code",
   "execution_count": 65,
   "id": "f558b98a",
   "metadata": {},
   "outputs": [
    {
     "data": {
      "image/png": "[encoded data removed]",
      "text/plain": [
       "<Figure size 1200x600 with 1 Axes>"
      ]
     },
     "metadata": {},
     "output_type": "display_data"
    }
   ],
   "source": [
    "# Visualize the results\n",
    "plt.figure(figsize=(12, 6))\n",
    "plt.plot(df['ngay'].iloc[-len(actual)-1:-1], actual, label='Actual')\n",
    "plt.plot(df['ngay'].iloc[-len(predictions)-1:-1], predictions, label='Predicted')\n",
    "plt.title('Stock Price Prediction (Next Day)')\n",
    "plt.xlabel('Date')\n",
    "plt.ylabel('Price')\n",
    "plt.legend()\n",
    "plt.xticks(rotation=45)\n",
    "plt.tight_layout()\n",
    "plt.show()"
   ]
  },
  {
   "cell_type": "code",
   "execution_count": 49,
   "id": "d3fbad5d",
   "metadata": {},
   "outputs": [
    {
     "name": "stdout",
     "output_type": "stream",
     "text": [
      "Mean Absolute Error: 957.33\n"
     ]
    }
   ],
   "source": [
    "# Calculate and print the Mean Absolute Error\n",
    "mae = np.mean(np.abs(predictions - actual))\n",
    "print(f\"Mean Absolute Error: {mae:.2f}\")"
   ]
  }
 ],
 "metadata": {
  "kernelspec": {
   "display_name": "Python 3",
   "language": "python",
   "name": "python3"
  },
  "language_info": {
   "codemirror_mode": {
    "name": "ipython",
    "version": 3
   },
   "file_extension": ".py",
   "mimetype": "text/x-python",
   "name": "python",
   "nbconvert_exporter": "python",
   "pygments_lexer": "ipython3",
   "version": "3.12.7"
  }
 },
 "nbformat": 4,
 "nbformat_minor": 5
}
